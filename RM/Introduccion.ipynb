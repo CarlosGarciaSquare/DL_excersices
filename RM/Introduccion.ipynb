{
 "cells": [
  {
   "cell_type": "markdown",
   "id": "434c364f-fc9d-455f-8507-7baa244e67fb",
   "metadata": {},
   "source": [
    "<center>\n",
    "    <img src=\"https://cdn.ticbeat.com/src/uploads/2020/08/machine-learning-mooc-810x540.jpg\" width=\"500\" />\n",
    "</center>"
   ]
  },
  {
   "cell_type": "markdown",
   "id": "5fbe4cd7-2da3-4479-a5b4-0c02d8d0df46",
   "metadata": {},
   "source": [
    "## Introducción"
   ]
  },
  {
   "cell_type": "code",
   "execution_count": 6,
   "id": "9ad5ca56-66b9-4092-ae53-7b3e0b353a08",
   "metadata": {
    "jupyter": {
     "source_hidden": true
    },
    "tags": []
   },
   "outputs": [
    {
     "data": {
      "text/html": [
       " <iframe width=\"1000\" height=\"315\" src=\"https://www.youtube.com/embed/oT3arRRB2Cw\" title=\"YouTube video player\" frameborder=\"0\" allow=\"accelerometer; autoplay; clipboard-write; encrypted-media; gyroscope; picture-in-picture\" allowfullscreen></iframe> "
      ],
      "text/plain": [
       "<IPython.core.display.HTML object>"
      ]
     },
     "execution_count": 6,
     "metadata": {},
     "output_type": "execute_result"
    }
   ],
   "source": [
    "# import IPython.display.HTML class\n",
    "from IPython.display import HTML\n",
    "# create a string which contains html source code.\n",
    "html_data = \"\"\" <iframe width=\"1000\" height=\"315\" src=\"https://www.youtube.com/embed/oT3arRRB2Cw\" title=\"YouTube video player\" frameborder=\"0\" allow=\"accelerometer; autoplay; clipboard-write; encrypted-media; gyroscope; picture-in-picture\" allowfullscreen></iframe> \"\"\"\n",
    "# create a HTML object.\n",
    "html = HTML(data=html_data)\n",
    "# display the HTML object in jupyter notebook\n",
    "html"
   ]
  },
  {
   "cell_type": "markdown",
   "id": "6a5d4000-d8d8-4e35-8102-a19abbe5b1e7",
   "metadata": {},
   "source": [
    "Extraído de Dot csv (Youtube)"
   ]
  },
  {
   "cell_type": "code",
   "execution_count": null,
   "id": "6303ae6e-5fe0-4e5c-97f2-7bb3cc8c0b4f",
   "metadata": {},
   "outputs": [],
   "source": []
  }
 ],
 "metadata": {
  "kernelspec": {
   "display_name": "Python",
   "language": "python",
   "name": "conda-env-python-py"
  },
  "language_info": {
   "codemirror_mode": {
    "name": "ipython",
    "version": 3
   },
   "file_extension": ".py",
   "mimetype": "text/x-python",
   "name": "python",
   "nbconvert_exporter": "python",
   "pygments_lexer": "ipython3",
   "version": "3.6.13"
  }
 },
 "nbformat": 4,
 "nbformat_minor": 5
}
